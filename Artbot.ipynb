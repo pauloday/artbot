{
  "nbformat": 4,
  "nbformat_minor": 0,
  "metadata": {
    "colab": {
      "name": "Artbot",
      "provenance": [],
      "collapsed_sections": [],
      "authorship_tag": "ABX9TyMlGCaXH0xyiEZtgbCshNik",
      "include_colab_link": true
    },
    "kernelspec": {
      "name": "python3",
      "display_name": "Python 3"
    },
    "language_info": {
      "name": "python"
    },
    "accelerator": "GPU"
  },
  "cells": [
    {
      "cell_type": "markdown",
      "metadata": {
        "id": "view-in-github",
        "colab_type": "text"
      },
      "source": [
        "<a href=\"https://colab.research.google.com/github/pauloday/artbot/blob/yaml/Artbot.ipynb\" target=\"_parent\"><img src=\"https://colab.research.google.com/assets/colab-badge.svg\" alt=\"Open In Colab\"/></a>"
      ]
    },
    {
      "cell_type": "markdown",
      "metadata": {
        "id": "Q3-PmdktAXpI"
      },
      "source": [
        "Run this one, to download all the stuff, then run the next one to upload your file.\n",
        "\n",
        "Actually viewing the files during the run is a little annoying (for now), you have to go into the folder on the left and find the image to look at it. Or wait for the run to be over and it'll give you a zip with everything."
      ]
    },
    {
      "cell_type": "code",
      "metadata": {
        "id": "sI8qFpqHxTWw"
      },
      "source": [
        "print('Initializing...')\n",
        "!git clone --branch yaml https://github.com/pauloday/artbot\n",
        "!mv artbot/* .\n",
        "!./init.sh\n",
        "import sys\n",
        "sys.path.append('./taming-transformers')"
      ],
      "execution_count": null,
      "outputs": []
    },
    {
      "cell_type": "code",
      "metadata": {
        "id": "3TOU9XeExyzD"
      },
      "source": [
        "from yaml import load\n",
        "from artbot import artbot\n",
        "from google.colab import files\n",
        "from yaml import load\n",
        "\n",
        "uploaded = files.upload()\n",
        "for name in uploaded.keys():\n",
        "  content = uploaded[name]\n",
        "  files.download(artbot(content))"
      ],
      "execution_count": null,
      "outputs": []
    }
  ]
}