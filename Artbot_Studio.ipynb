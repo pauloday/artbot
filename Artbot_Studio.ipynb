{
  "nbformat": 4,
  "nbformat_minor": 0,
  "metadata": {
    "accelerator": "GPU",
    "colab": {
      "name": "Artbot Studio",
      "provenance": [],
      "collapsed_sections": [],
      "include_colab_link": true
    },
    "kernelspec": {
      "display_name": "Python 3",
      "name": "python3"
    }
  },
  "cells": [
    {
      "cell_type": "markdown",
      "metadata": {
        "id": "view-in-github",
        "colab_type": "text"
      },
      "source": [
        "<a href=\"https://colab.research.google.com/github/pauloday/artbot/blob/main/Artbot_Studio.ipynb\" target=\"_parent\"><img src=\"https://colab.research.google.com/assets/colab-badge.svg\" alt=\"Open In Colab\"/></a>"
      ]
    },
    {
      "cell_type": "markdown",
      "metadata": {
        "id": "vWmc_s2ezvU0"
      },
      "source": [
        "# Artbot Studio\n",
        "by Paul O'Day\n",
        "\n",
        ">Based on https://colab.research.google.com/drive/1L8oL-vLJXVcRzCFbPwOoMkPKJ8-aYdPN \\\n",
        "\n",
        "This is the runner for Artbot Studio, which will run in a different window. Here's how to run it:\n",
        "\n",
        "\n",
        "1.   Go to the 'Runtime' menu, and select 'Change runtime type'. Make sure the accelerator is set to 'GPU'\n",
        "\n",
        "2.   Run the init cell below by pressing the play button. You'll only have to run this once per session, even after you restart the runtime. It'll take a little while, it has to download at least 2GB of data to Google's servers, but the connection is really fast.\n",
        "\n",
        "3.   Restart the runtime before running the next cell to get the studio link. Do this through the 'Runtime' menu, or by pressing ctrl-m then the period key.\n",
        "\n",
        "4.   Run the next cell to get your URL\n",
        "\n",
        "5.   Have fun!\n"
      ]
    },
    {
      "cell_type": "code",
      "metadata": {
        "id": "RvlYkCQ9vFiy"
      },
      "source": [
        "print('Collecting init files...')\n",
        "!git clone --quiet --branch main https://github.com/pauloday/artbot\n",
        "!mv artbot/* .\n",
        "print('Initializing...')\n",
        "!./init.sh\n",
        "print('Downloading model...')\n",
        "!npm install -g localtunnel\n",
        "print('Done! Restart and run the next cell.')"
      ],
      "execution_count": null,
      "outputs": []
    },
    {
      "cell_type": "markdown",
      "metadata": {
        "id": "kfT2U8amv-D5"
      },
      "source": [
        "**Restart the runtime before running the next cell**. If you don't, this cell will run and give you a URL but it won't work. Restarting the runtime won't destroy any data."
      ]
    },
    {
      "cell_type": "code",
      "metadata": {
        "id": "-IizhjIzv8SL"
      },
      "source": [
        "!nohup streamlit run /content/artbot_studio.py &\n",
        "!lt --port 8501"
      ],
      "execution_count": null,
      "outputs": []
    },
    {
      "cell_type": "markdown",
      "metadata": {
        "id": "85AEOsNk6ppJ"
      },
      "source": [
        "Once you're done, stop the above cell (it may hang - just restart the runtime). Then run this cell to create a zip of all the images you made this session. You can download it (or move it to your Google drive if it's too big) at through the folder icon on the left menu bar. The zip will be called `Gaillery.zip`\n"
      ]
    },
    {
      "cell_type": "code",
      "metadata": {
        "id": "HAyytpRLcna3"
      },
      "source": [
        "import shutil\n",
        "shutil.make_archive('Gaillery', format='zip', root_dir='Gaillery')"
      ],
      "execution_count": null,
      "outputs": []
    }
  ]
}
