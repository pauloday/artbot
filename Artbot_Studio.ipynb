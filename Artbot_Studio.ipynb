{
  "nbformat": 4,
  "nbformat_minor": 0,
  "metadata": {
    "accelerator": "GPU",
    "colab": {
      "name": "Artbot Studio",
      "provenance": [],
      "collapsed_sections": [],
      "include_colab_link": true
    },
    "kernelspec": {
      "display_name": "Python 3",
      "name": "python3"
    }
  },
  "cells": [
    {
      "cell_type": "markdown",
      "metadata": {
        "id": "view-in-github",
        "colab_type": "text"
      },
      "source": [
        "<a href=\"https://colab.research.google.com/github/pauloday/artbot/blob/stable/Artbot_Studio.ipynb\" target=\"_parent\"><img src=\"https://colab.research.google.com/assets/colab-badge.svg\" alt=\"Open In Colab\"/></a>"
      ]
    },
    {
      "cell_type": "markdown",
      "metadata": {
        "id": "vWmc_s2ezvU0"
      },
      "source": [
        "# Artbot Studio\n",
        "by Paul O'Day\n",
        "\n",
        ">Based on https://colab.research.google.com/drive/1L8oL-vLJXVcRzCFbPwOoMkPKJ8-aYdPN \\\n",
        "\n",
        "This is the runner for Artbot Studio, which will run in a different window. Here's how to run it:\n",
        "\n",
        "1.   Go to the 'Runtime' menu, and select 'Change runtime type'. Make sure the accelerator is set to 'GPU'\n",
        "\n",
        "2.   Run the init cell below by pressing the play button. You'll only have to run this once per session, even after you restart the runtime. It'll take a little while, it has to download at least 2GB of data to Google's servers, but the connection is really fast.\n",
        "\n",
        "3.   Run the next cell to get your URL\n",
        "\n",
        "4.   Have fun!\n"
      ]
    },
    {
      "cell_type": "code",
      "metadata": {
        "id": "RvlYkCQ9vFiy"
      },
      "source": [
        "print('Collecting init files...')\n",
        "!git clone --quiet --branch stable https://github.com/pauloday/artbot\n",
        "!mv artbot/* .\n",
        "print('Initializing...')\n",
        "!./init.sh\n",
        "!npm install -g localtunnel"
      ],
      "execution_count": null,
      "outputs": []
    },
    {
      "cell_type": "markdown",
      "metadata": {
        "id": "A691s0hTs6ja"
      },
      "source": [
        "If the image generation hangs, restart the runtime by pressing ctrl + m then period, or through the 'Runtime' menu. Then rerun the following cell."
      ]
    },
    {
      "cell_type": "code",
      "metadata": {
        "id": "-IizhjIzv8SL"
      },
      "source": [
        "!nohup streamlit run /content/artbot_studio.py &\n",
        "!lt --port 8501"
      ],
      "execution_count": null,
      "outputs": []
    },
    {
      "cell_type": "markdown",
      "metadata": {
        "id": "85AEOsNk6ppJ"
      },
      "source": [
        "To download your files, go to the folder tab on the left. Download files by clicking on the 3 dot menu. You can move them to your Google Drive here by using the drive folder button at the top.\n"
      ]
    }
  ]
}