{
  "nbformat": 4,
  "nbformat_minor": 0,
  "metadata": {
    "accelerator": "GPU",
    "colab": {
      "name": "Artbot Studio",
      "provenance": [],
      "collapsed_sections": [],
      "include_colab_link": true
    },
    "kernelspec": {
      "display_name": "Python 3",
      "name": "python3"
    }
  },
  "cells": [
    {
      "cell_type": "markdown",
      "metadata": {
        "id": "view-in-github",
        "colab_type": "text"
      },
      "source": [
        "<a href=\"https://colab.research.google.com/github/pauloday/artbot/blob/stable/Artbot_Studio.ipynb\" target=\"_parent\"><img src=\"https://colab.research.google.com/assets/colab-badge.svg\" alt=\"Open In Colab\"/></a>"
      ]
    },
    {
      "cell_type": "markdown",
      "metadata": {
        "id": "vWmc_s2ezvU0"
      },
      "source": [
        "# Artbot Studio\n",
        "by Paul O'Day\n",
        "\n",
        ">Based on https://colab.research.google.com/drive/1L8oL-vLJXVcRzCFbPwOoMkPKJ8-aYdPN \\\n",
        "\n",
        "This is the runner for Artbot Studio, which will run in a different window. Here's how to run it:\n",
        "\n",
        "1.   Go to the 'Runtime' menu, and select 'Change runtime type'. Make sure the accelerator is set to 'GPU'\n",
        "\n",
        "2.   Run the init cell below by pressing the play button. You'll only have to run this once per session, even after you restart the runtime. It'll take a little while, it has to download at least 2GB of data to Google's servers, but the connection is really fast.\n",
        "\n",
        "3.   After it's done downloading, run the next cell to upload your run file. You'll have to authenticate for Google Drive. Output will be saved in `Gaillery/`. There will also sometimes be a folder called '.ipynb_checkpoints' generated in your drive/gallery folder. This is safe to delete, and may not even be generated most of the time.\n",
        "\n",
        "4.   Have fun!\n"
      ]
    },
    {
      "cell_type": "code",
      "metadata": {
        "id": "RvlYkCQ9vFiy"
      },
      "source": [
        "print('Collecting init files...')\n",
        "!git clone --branch stable https://github.com/pauloday/artbot\n",
        "!mv artbot/src/* .\n",
        "print('Initializing...')\n",
        "!./artbot/init.sh\n",
        "import sys\n",
        "sys.path.append('./taming-transformers')"
      ],
      "execution_count": null,
      "outputs": []
    },
    {
      "cell_type": "markdown",
      "metadata": {
        "id": "7ErydlFGT2Ko"
      },
      "source": [
        "If you want to stop a run, use the \"Restart Runtime\" option in the Runtime menu. Doing so won't require you to rerun the setup, you can just start a run right away. If a run doesn't exit succesfully (e.g. out of memory error), or you change a file you just ran, you'll need to restart the runtime. If you write a long video, the progress bar may turn red and stop before it's done (or just not work). This doesn't seem to be a problem, it's just a bug in the video writing library I use."
      ]
    },
    {
      "cell_type": "code",
      "metadata": {
        "id": "-IizhjIzv8SL",
        "cellView": "form"
      },
      "source": [
        "from os import remove, path, makedirs\n",
        "from artbot import Artbot\n",
        "from google.colab import files\n",
        "from IPython import display\n",
        "from tqdm.notebook import tqdm\n",
        "from google.colab import drive\n",
        "from pathlib import Path\n",
        "from shutil import copyfile\n",
        "# comment this line out if you don't want google drive\n",
        "drive.mount('/content/drive')\n",
        "gallery = '/content/drive/MyDrive/Gaillery'\n",
        "#gallery = '/Gaillery'\n",
        "#@markdown If this is enabled, the file in your gallery folder will be used.\n",
        "#@markdown The gallery folder is in your Google drive, called 'Gaillery'.\n",
        "#@markdown If the file doesn't exist, Artbot will create it and exit.\n",
        "#@markdown If you don't have a 'scratch.yml' file, one will be created with some demos and documentation.\n",
        "use_gallery = True #@param {type:\"boolean\"}\n",
        "image_pane = display.display(display_id=True)\n",
        "image_panes = {}\n",
        "status_panes = {}\n",
        "def pane(device, typ):\n",
        "    pane_dict = image_panes if typ == 'image' else status_panes\n",
        "    if not device in pane_dict.keys():\n",
        "        pane_dict[device] = display.display(display_id=True)\n",
        "    return pane_dict[device]\n",
        "\n",
        "def image_writer(img, dev, video=False):\n",
        "    if not video:\n",
        "        pane(dev, 'image').update(display.Image(img))\n",
        "\n",
        "def status_writer(status, dev):\n",
        "    st_pane = pane(dev, 'status')\n",
        "    if not status:\n",
        "        display.clear_output()\n",
        "    else:\n",
        "      st_pane.update(display.Markdown(status))\n",
        "\n",
        "bot = lambda yaml: Artbot(\n",
        "    yaml,\n",
        "    image_writer=image_writer,\n",
        "    status_writer=status_writer,\n",
        "    gallery=gallery,\n",
        "    tqdm=tqdm\n",
        ")\n",
        "\n",
        "if use_gallery:\n",
        "    infile = 'Demo.yml' #@param {type:\"string\"}\n",
        "    pathstr = f'{gallery}/{infile}'\n",
        "    if path.exists(pathstr):\n",
        "        bot = bot(open(pathstr, 'rb').read())\n",
        "        bot.run()\n",
        "    elif infile == 'Demo.yml':\n",
        "        if not path.exists(gallery):\n",
        "            makedirs(gallery)\n",
        "        copyfile('artbot/demo.yml', pathstr)\n",
        "        print(f'Running demo/documentaiton at {pathstr}')\n",
        "        bot = bot(open(pathstr, 'rb').read())\n",
        "        bot.run()\n",
        "    else:\n",
        "        Path(pathstr).touch()\n",
        "        print(f'Created empty file at {pathstr}')\n",
        "else:\n",
        "    #@markdown If use_gallery isn't checked, it'll ask you to upload a file\n",
        "    uploaded = files.upload()\n",
        "    for fn in uploaded.keys():\n",
        "        bot = bot(uploaded[fn])\n",
        "        bot.run()"
      ],
      "execution_count": null,
      "outputs": []
    },
    {
      "cell_type": "markdown",
      "metadata": {
        "id": "0mwuCoo0ioPU"
      },
      "source": [
        "Send any bugs, suggestions, cool arts, or anything else interesting to artbot@pauloday.com."
      ]
    }
  ]
}