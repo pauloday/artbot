{
  "nbformat": 4,
  "nbformat_minor": 0,
  "metadata": {
    "accelerator": "GPU",
    "colab": {
      "name": "Artbot Studio",
      "provenance": [],
      "collapsed_sections": [],
      "include_colab_link": true
    },
    "kernelspec": {
      "display_name": "Python 3",
      "name": "python3"
    }
  },
  "cells": [
    {
      "cell_type": "markdown",
      "metadata": {
        "id": "view-in-github",
        "colab_type": "text"
      },
      "source": [
        "<a href=\"https://colab.research.google.com/github/pauloday/artbot/blob/main/Artbot_Studio.ipynb\" target=\"_parent\"><img src=\"https://colab.research.google.com/assets/colab-badge.svg\" alt=\"Open In Colab\"/></a>"
      ]
    },
    {
      "cell_type": "markdown",
      "metadata": {
        "id": "vWmc_s2ezvU0"
      },
      "source": [
        "# Artbot Studio\n",
        "by Paul O'Day\n",
        "\n",
        ">Based on https://colab.research.google.com/drive/1L8oL-vLJXVcRzCFbPwOoMkPKJ8-aYdPN \\\n",
        "Streamlit runner Created by [Manuel Romero](https://twitter.com/mrm8488)\n",
        "\n",
        "This is the runner for Artbot Studio, which will run in a different window. Here's how to run it:\n",
        "\n",
        "\n",
        "1.   Go to the 'Runtime' menu, and select 'Change runtime type'. Make sure the accelerator is set to 'GPU'\n",
        "\n",
        "2.   Run the init cell below by pressing the play button. You'll only have to run this once per session, even after you restart the runtime. It'll take a little while, it has to download at least 2GB of data to Google's servers, but the connection is really fast.\n",
        "\n",
        "3.   Restart the runtime before running the next cell to get the studio link. Do this through the 'Runtime' menu, or by pressing ctrl-m then the period key. You'll probably have to run this cell twice before getting a URL.\n",
        "\n",
        "4. Make sure you have a URL before running the next cell - it won't exit so the URL needs to be generated first. If you run it without a URL just stop it and run the URL generator until you get one.\n",
        "\n",
        "5.   Run the final cell, then go to the URL. There may be some output here, but the settings interface and image previews are in the other tab.\n",
        "\n",
        "6.   Have fun!\n"
      ]
    },
    {
      "cell_type": "code",
      "metadata": {
        "id": "RvlYkCQ9vFiy"
      },
      "source": [
        "!pip install -q streamlit\n",
        "!git clone --branch main https://github.com/pauloday/artbot\n",
        "!mv artbot/* .\n",
        "!./init.sh\n",
        "!wget https://bin.equinox.io/c/4VmDzA7iaHb/ngrok-stable-linux-amd64.zip\n",
        "!unzip ngrok-stable-linux-amd64.zip"
      ],
      "execution_count": null,
      "outputs": []
    },
    {
      "cell_type": "markdown",
      "metadata": {
        "id": "uzvl_5Cv8HeX"
      },
      "source": [
        "**Restart the runtime before running the next cell**. Do this through the 'Runtime' menu, or by pressing ctrl-m then the period key. The cell will probably fail the first time (as in you don't get a link), idk why yet. Just run it until it works, and don't run the following cell until you have a URL. If you do run the last cell before you get a URL, this one will fail the first.time you rerun it."
      ]
    },
    {
      "cell_type": "code",
      "metadata": {
        "id": "0mMiT5-ZQ7h1"
      },
      "source": [
        "get_ipython().system_raw('./ngrok http 8501 &')\n",
        "!curl -s http://localhost:4040/api/tunnels | python3 -c \\\n",
        "    'import sys, json; print(\"Execute the next cell and the go here: \" +json.load(sys.stdin)[\"tunnels\"][0][\"public_url\"])'"
      ],
      "execution_count": null,
      "outputs": []
    },
    {
      "cell_type": "markdown",
      "metadata": {
        "id": "qniQh3Tm6wl-"
      },
      "source": [
        "Make sure there's a link to `{something random}.ngrok.io` above before running the next cell"
      ]
    },
    {
      "cell_type": "code",
      "metadata": {
        "id": "IFvZnzS4vr88"
      },
      "source": [
        "\n",
        "\n",
        "!streamlit run /content/artbot_studio.py"
      ],
      "execution_count": null,
      "outputs": []
    },
    {
      "cell_type": "markdown",
      "metadata": {
        "id": "85AEOsNk6ppJ"
      },
      "source": [
        "Once you're done, stop the above cell (it may hang - it's fine to restart the runtime). Then run this cell to create a zip of all the images you made this session. You can download it (or move it to your Google drive if it's too big) at through the folder icon on the left menu bar. The zip will be called `Gaillery.zip`\n"
      ]
    },
    {
      "cell_type": "code",
      "metadata": {
        "id": "HAyytpRLcna3"
      },
      "source": [
        "import shutil\n",
        "shutil.make_archive('Gaillery', format='zip', root_dir='Gaillery')"
      ],
      "execution_count": null,
      "outputs": []
    }
  ]
}