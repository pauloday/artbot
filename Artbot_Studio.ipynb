{
  "nbformat": 4,
  "nbformat_minor": 0,
  "metadata": {
    "accelerator": "GPU",
    "colab": {
      "name": "Copy of Artbot Studio",
      "provenance": [],
      "collapsed_sections": [],
      "include_colab_link": true
    },
    "kernelspec": {
      "display_name": "Python 3",
      "name": "python3"
    }
  },
  "cells": [
    {
      "cell_type": "markdown",
      "metadata": {
        "id": "view-in-github",
        "colab_type": "text"
      },
      "source": [
        "<a href=\"https://colab.research.google.com/github/pauloday/artbot/blob/main/Artbot_Studio.ipynb\" target=\"_parent\"><img src=\"https://colab.research.google.com/assets/colab-badge.svg\" alt=\"Open In Colab\"/></a>"
      ]
    },
    {
      "cell_type": "markdown",
      "metadata": {
        "id": "vWmc_s2ezvU0"
      },
      "source": [
        "# Artbot Studio\n",
        "by Paul O'Day\n",
        "\n",
        ">Based on https://colab.research.google.com/drive/1L8oL-vLJXVcRzCFbPwOoMkPKJ8-aYdPN \\\n",
        "\n",
        "This is the runner for Artbot Studio, which will run in a different window. Here's how to run it:\n",
        "\n",
        "\n",
        "1.   Go to the 'Runtime' menu, and select 'Change runtime type'. Make sure the accelerator is set to 'GPU'\n",
        "\n",
        "2.   Run the init cell below by pressing the play button. You'll only have to run this once per session, even after you restart the runtime. It'll take a little while, it has to download at least 2GB of data to Google's servers, but the connection is really fast.\n",
        "\n",
        "3.   Restart the runtime before running the next cell to get the studio link. Do this through the 'Runtime' menu, or by pressing ctrl-m then the period key.\n",
        "\n",
        "4.   Run the next cell to get your URL\n",
        "\n",
        "5.   Have fun!\n"
      ]
    },
    {
      "cell_type": "code",
      "metadata": {
        "id": "RvlYkCQ9vFiy",
        "outputId": "5adf21e7-452a-4098-d309-643d7fed674f",
        "colab": {
          "base_uri": "https://localhost:8080/"
        }
      },
      "source": [
        "!git clone --quiet --branch pub https://github.com/pauloday/artbot\n",
        "!mv artbot/* .\n",
        "!./init.sh\n",
        "!npm install -g localtunnel"
      ],
      "execution_count": null,
      "outputs": [
        {
          "output_type": "stream",
          "text": [
            "\u001b[K     |████████████████████████████████| 7.9 MB 4.8 MB/s \n",
            "\u001b[K     |████████████████████████████████| 4.2 MB 59.3 MB/s \n",
            "\u001b[K     |████████████████████████████████| 111 kB 68.7 MB/s \n",
            "\u001b[K     |████████████████████████████████| 75 kB 4.1 MB/s \n",
            "\u001b[K     |████████████████████████████████| 170 kB 64.9 MB/s \n",
            "\u001b[K     |████████████████████████████████| 122 kB 71.8 MB/s \n",
            "\u001b[K     |████████████████████████████████| 786 kB 56.9 MB/s \n",
            "\u001b[K     |████████████████████████████████| 368 kB 59.6 MB/s \n",
            "\u001b[K     |████████████████████████████████| 63 kB 2.1 MB/s \n",
            "\u001b[?25h  Building wheel for blinker (setup.py) ... \u001b[?25l\u001b[?25hdone\n",
            "\u001b[31mERROR: pip's dependency resolver does not currently take into account all the packages that are installed. This behaviour is the source of the following dependency conflicts.\n",
            "jupyter-console 5.2.0 requires prompt-toolkit<2.0.0,>=1.0.0, but you have prompt-toolkit 3.0.19 which is incompatible.\n",
            "google-colab 1.0.0 requires ipykernel~=4.10, but you have ipykernel 6.0.3 which is incompatible.\n",
            "google-colab 1.0.0 requires ipython~=5.5.0, but you have ipython 7.26.0 which is incompatible.\u001b[0m\n",
            "\u001b[K     |████████████████████████████████| 64 kB 2.2 MB/s \n",
            "\u001b[K     |████████████████████████████████| 74 kB 3.4 MB/s \n",
            "\u001b[K     |████████████████████████████████| 915 kB 43.7 MB/s \n",
            "\u001b[K     |████████████████████████████████| 2.6 MB 69.8 MB/s \n",
            "\u001b[K     |████████████████████████████████| 76 kB 4.9 MB/s \n",
            "\u001b[K     |████████████████████████████████| 636 kB 57.3 MB/s \n",
            "\u001b[K     |████████████████████████████████| 112 kB 68.3 MB/s \n",
            "\u001b[K     |████████████████████████████████| 10.6 MB 49.8 MB/s \n",
            "\u001b[K     |████████████████████████████████| 234 kB 59.2 MB/s \n",
            "\u001b[K     |████████████████████████████████| 829 kB 35.8 MB/s \n",
            "\u001b[K     |████████████████████████████████| 118 kB 63.4 MB/s \n",
            "\u001b[K     |████████████████████████████████| 1.3 MB 42.0 MB/s \n",
            "\u001b[K     |████████████████████████████████| 895 kB 40.2 MB/s \n",
            "\u001b[K     |████████████████████████████████| 3.3 MB 45.2 MB/s \n",
            "\u001b[K     |████████████████████████████████| 294 kB 68.3 MB/s \n",
            "\u001b[K     |████████████████████████████████| 142 kB 66.7 MB/s \n",
            "\u001b[?25h  Building wheel for ftfy (setup.py) ... \u001b[?25l\u001b[?25hdone\n",
            "  Building wheel for antlr4-python3-runtime (setup.py) ... \u001b[?25l\u001b[?25hdone\n",
            "  Building wheel for future (setup.py) ... \u001b[?25l\u001b[?25hdone\n",
            "\u001b[31mERROR: pip's dependency resolver does not currently take into account all the packages that are installed. This behaviour is the source of the following dependency conflicts.\n",
            "tensorflow 2.5.0 requires tensorboard~=2.5, but you have tensorboard 2.4.1 which is incompatible.\u001b[0m\n",
            "  % Total    % Received % Xferd  Average Speed   Time    Time     Time  Current\n",
            "                                 Dload  Upload   Total   Spent    Left  Speed\n",
            "  0     0    0     0    0     0      0      0 --:--:-- --:--:-- --:--:--     0\n",
            "100   645  100   645    0     0   1145      0 --:--:-- --:--:-- --:--:--  1145\n",
            "  % Total    % Received % Xferd  Average Speed   Time    Time     Time  Current\n",
            "                                 Dload  Upload   Total   Spent    Left  Speed\n",
            "  0     0    0     0    0     0      0      0 --:--:-- --:--:-- --:--:--     0\n",
            " 95  913M   95  874M    0     0  14.9M      0  0:01:01  0:00:58  0:00:03 14.9M"
          ],
          "name": "stdout"
        }
      ]
    },
    {
      "cell_type": "markdown",
      "metadata": {
        "id": "kfT2U8amv-D5"
      },
      "source": [
        "**Restart the runtime before running the next cell**. If you don't, this cell will run and give you a URL but it won't work. Restarting the runtime won't destroy any data."
      ]
    },
    {
      "cell_type": "code",
      "metadata": {
        "id": "-IizhjIzv8SL"
      },
      "source": [
        "!nohup streamlit run /content/artbot_studio.py &;\n",
        "!lt --port 8501"
      ],
      "execution_count": null,
      "outputs": []
    },
    {
      "cell_type": "markdown",
      "metadata": {
        "id": "85AEOsNk6ppJ"
      },
      "source": [
        "Once you're done, stop the above cell (it may hang - just restart the runtime). Then run this cell to create a zip of all the images you made this session. You can download it (or move it to your Google drive if it's too big) at through the folder icon on the left menu bar. The zip will be called `Gaillery.zip`\n"
      ]
    },
    {
      "cell_type": "code",
      "metadata": {
        "id": "HAyytpRLcna3"
      },
      "source": [
        "import shutil\n",
        "shutil.make_archive('Gaillery', format='zip', root_dir='Gaillery')"
      ],
      "execution_count": null,
      "outputs": []
    }
  ]
}