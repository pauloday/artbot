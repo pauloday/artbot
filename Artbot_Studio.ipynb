{
  "nbformat": 4,
  "nbformat_minor": 0,
  "metadata": {
    "accelerator": "GPU",
    "colab": {
      "name": "Artbot Studio",
      "provenance": [],
      "collapsed_sections": [],
      "include_colab_link": true
    },
    "kernelspec": {
      "display_name": "Python 3",
      "name": "python3"
    }
  },
  "cells": [
    {
      "cell_type": "markdown",
      "metadata": {
        "id": "view-in-github",
        "colab_type": "text"
      },
      "source": [
        "<a href=\"https://colab.research.google.com/github/pauloday/artbot/blob/fastrunner/Artbot_Studio.ipynb\" target=\"_parent\"><img src=\"https://colab.research.google.com/assets/colab-badge.svg\" alt=\"Open In Colab\"/></a>"
      ]
    },
    {
      "cell_type": "markdown",
      "metadata": {
        "id": "vWmc_s2ezvU0"
      },
      "source": [
        "# Artbot Studio\n",
        "by Paul O'Day\n",
        "\n",
        ">Based on https://colab.research.google.com/drive/1L8oL-vLJXVcRzCFbPwOoMkPKJ8-aYdPN \\\n",
        "\n",
        "This is the runner for Artbot Studio, which will run in a different window. Here's how to run it:\n",
        "\n",
        "1.   Go to the 'Runtime' menu, and select 'Change runtime type'. Make sure the accelerator is set to 'GPU'\n",
        "\n",
        "2.   Run the init cell below by pressing the play button. You'll only have to run this once per session, even after you restart the runtime. It'll take a little while, it has to download at least 2GB of data to Google's servers, but the connection is really fast.\n",
        "\n",
        "3.   After it's done downloading, run the next cell to upload your run file. You'll have to authenticate for Google Drive. Output will be saved in `Gaillery/`\n",
        "4.   Have fun!\n"
      ]
    },
    {
      "cell_type": "code",
      "metadata": {
        "id": "RvlYkCQ9vFiy"
      },
      "source": [
        "print('Collecting init files...')\n",
        "!git clone --branch fastrunner https://github.com/pauloday/artbot\n",
        "!mv artbot/src/artbot/* .\n",
        "print('Initializing...')\n",
        "!./artbot/init.sh\n",
        "!npm install -g localtunnel\n",
        "# add google drive mount and gallery definition\n",
        "import sys\n",
        "sys.path.append('./taming-transformers')\n"
      ],
      "execution_count": null,
      "outputs": []
    },
    {
      "cell_type": "code",
      "metadata": {
        "id": "-IizhjIzv8SL"
      },
      "source": [
        "from os import remove\n",
        "from artbot import Artbot\n",
        "from google.colab import files\n",
        "from IPython import display\n",
        "from tqdm.notebook import tqdm\n",
        "from google.colab import drive\n",
        "# comment this line out if you don't want google drive\n",
        "drive.mount('/content/drive')\n",
        "\n",
        "uploaded = files.upload()\n",
        "image_pane = display.display(display_id=True)\n",
        "status_pane = display.display(display_id=True)\n",
        "def image_writer(img, video=False):\n",
        "    if not video:\n",
        "        image_pane.update(display.Image(img))\n",
        "def status_writer(status):\n",
        "    if not status:\n",
        "        display.clear_output()\n",
        "    else:\n",
        "      status_pane.update(display.Markdown(status))\n",
        "\n",
        "for fn in uploaded.keys():\n",
        "  bot = Artbot(uploaded[fn], image_writer=image_writer, status_writer=status_writer, gallery='/content/drive/MyDrive/Gaillery', tqdm=tqdm)\n",
        "  remove(fn)\n",
        "  bot.run()"
      ],
      "execution_count": null,
      "outputs": []
    },
    {
      "cell_type": "markdown",
      "metadata": {
        "id": "0mwuCoo0ioPU"
      },
      "source": [
        "The video writing progress bar only goes halfway and turns red, but it seems to write the whole video. Send any examples where that doesn't seem to be the case, or anything else interesting to artbot@pauloday.com."
      ]
    }
  ]
}